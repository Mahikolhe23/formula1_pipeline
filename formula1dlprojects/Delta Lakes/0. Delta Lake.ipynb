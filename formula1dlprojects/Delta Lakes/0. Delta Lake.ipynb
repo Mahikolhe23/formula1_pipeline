{
 "cells": [
  {
   "cell_type": "markdown",
   "metadata": {
    "application/vnd.databricks.v1+cell": {
     "cellMetadata": {
      "byteLimit": 2048000,
      "rowLimit": 10000
     },
     "inputWidgets": {},
     "nuid": "fe06edcd-259f-4711-a479-7c67026ee197",
     "showTitle": false,
     "tableResultSettingsMap": {},
     "title": ""
    }
   },
   "source": [
    "### Data Architecture Evolution – Summary Notes with Examples\n",
    "\n",
    "#### 1. Data Warehouse (1980s–1990s)\n",
    "\n",
    " A centralized system for storing structured data used for Business Intelligence (BI) and reporting. It uses ETL to load clean data into structured tables.\n",
    "\n",
    "###### Key Features\n",
    "- Stores structured data in tables (rows and columns)\n",
    "- Data is transformed via ETL before loading\n",
    "- Optimized for complex queries and reports\n",
    "- Used by analysts and business users\n",
    "\n",
    "###### Limitations\n",
    "- No support for unstructured or semi-structured data\n",
    "- Long ingestion and transformation time\n",
    "- High cost to scale\n",
    "- Rigid schema\n",
    "- No real-time or machine learning support\n",
    "\n",
    "###### Example\n",
    "- Enterprise Reporting System using **Oracle Data Warehouse** or **Teradata**\n",
    "- A retail chain storing sales, inventory, and customer data in **Microsoft SQL Server Data Warehouse**\n",
    "\n",
    "###### Why Data Lake Emerged\n",
    "Due to lack of flexibility, cost, and inability to handle diverse data types, Data Lakes emerged to support varied and large-scale data needs.\n",
    "\n",
    "---\n",
    "\n",
    "#### 2. Data Lake (2010s)\n",
    "\n",
    " A centralized storage system that can store raw structured, semi-structured, and unstructured data in any format at low cost.\n",
    "\n",
    "###### Key Features\n",
    "- Stores all formats (CSV, JSON, images, videos, etc.)\n",
    "- ELT: load first, transform later\n",
    "- Built on scalable storage like S3, HDFS, ADLS\n",
    "- Used by data scientists and engineers\n",
    "\n",
    "###### Limitations\n",
    "- No ACID guarantees (data can become inconsistent)\n",
    "- Schema evolution is hard\n",
    "- Slow queries for BI tools\n",
    "- No data versioning or rollback\n",
    "- Poor governance and access control\n",
    "\n",
    "###### Example\n",
    "- **Amazon S3-based Data Lake** storing clickstream data, logs, images, JSON, and raw transaction records\n",
    "- **Azure Data Lake Storage** used by IoT companies to store sensor data\n",
    "\n",
    "###### Why Lakehouse Emerged\n",
    "To combine the flexibility of data lakes with the reliability and performance of data warehouses.\n",
    "\n",
    "---\n",
    "\n",
    "#### 3. Lakehouse (Late 2010s–2020s)\n",
    "\n",
    " A modern architecture that combines the low-cost, flexible storage of data lakes with the performance, reliability, and governance of data warehouses.\n",
    "\n",
    "###### Key Features\n",
    "- Open file formats (Parquet, Delta, ORC)\n",
    "- ACID transactions\n",
    "- Schema evolution and enforcement\n",
    "- Time travel and version control\n",
    "- Supports both batch and streaming\n",
    "- Suited for BI + ML workloads\n",
    "\n",
    "###### Example\n",
    "- **Databricks Lakehouse Platform** combining streaming + batch + ML in one architecture\n",
    "- A fintech company storing raw logs and financial transactions in Parquet format with ACID controls using **Apache Iceberg**\n",
    "\n",
    "###### Why Delta Lake Came In\n",
    "To bring transactionality, schema management, and reliability to cloud-based data lakes.\n",
    "\n",
    "---\n",
    "\n",
    "#### 4. Delta Lake (2019 – Open-sourced by Databricks)\n",
    "\n",
    " An open-source storage layer that brings ACID transactions, versioning, and schema enforcement to Data Lakes, transforming them into Lakehouses.\n",
    "\n",
    "###### Key Features\n",
    "- ACID transactions\n",
    "- Schema evolution and enforcement\n",
    "- Time travel and version history\n",
    "- Optimized queries (Delta Engine)\n",
    "- Works with Spark, MLflow, and Databricks\n",
    "- Batch and streaming support\n",
    "\n",
    "###### Example\n",
    "- A streaming analytics system built on **Delta Lake + Apache Spark** to process real-time stock trading data\n",
    "- A marketing analytics platform storing structured + semi-structured data in **Azure Data Lake + Delta format**\n"
   ]
  },
  {
   "cell_type": "code",
   "execution_count": 0,
   "metadata": {
    "application/vnd.databricks.v1+cell": {
     "cellMetadata": {},
     "inputWidgets": {},
     "nuid": "e872c389-d87e-46d0-894c-3450a4020d12",
     "showTitle": false,
     "tableResultSettingsMap": {},
     "title": ""
    }
   },
   "outputs": [],
   "source": []
  }
 ],
 "metadata": {
  "application/vnd.databricks.v1+notebook": {
   "computePreferences": null,
   "dashboards": [],
   "environmentMetadata": {
    "base_environment": "",
    "environment_version": "2"
   },
   "inputWidgetPreferences": null,
   "language": "sql",
   "notebookMetadata": {
    "pythonIndentUnit": 4
   },
   "notebookName": "0. Delta Lake",
   "widgets": {}
  },
  "language_info": {
   "name": "sql"
  }
 },
 "nbformat": 4,
 "nbformat_minor": 0
}